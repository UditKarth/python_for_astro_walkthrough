{
 "cells": [
  {
   "cell_type": "markdown",
   "id": "857fa2f6",
   "metadata": {},
   "source": [
    "# Chapter 1"
   ]
  },
  {
   "cell_type": "markdown",
   "id": "397c40ad",
   "metadata": {},
   "source": [
    "### Udit Karthikeyan"
   ]
  },
  {
   "cell_type": "markdown",
   "id": "7d00766d",
   "metadata": {},
   "source": [
    "Most operating systems rely on a *GUI*, or *graphical user interface*, for everyday usage. However, most instruments used for astronomy utilize UNIX, which requires command line interaction to access different directories and the information within. "
   ]
  },
  {
   "cell_type": "markdown",
   "id": "4a7a728c",
   "metadata": {},
   "source": [
    "(You can also utilize UNIX within many computers by accessing the terminal app or an analogous counterpart, and utilize UNIX functions to interact with the laptop.)"
   ]
  },
  {
   "cell_type": "markdown",
   "id": "78e3596e",
   "metadata": {},
   "source": [
    "The basis of UNIX commands involve traveling along a file system denoted by the path, beginning at the root directory. You can move along the path by changing directories with the command \"cd\". This command takes an argument in the form of a path location."
   ]
  },
  {
   "cell_type": "markdown",
   "id": "48ec05e3",
   "metadata": {},
   "source": [
    "If you want to traverse the full path, you can enter the path in the following manner:\n",
    "\n",
    "cd /location1/location2/location3\n",
    "\n",
    "Alternatively, you can access a nested directory by simply commanding the following:\n",
    "\n",
    "cd location3\n"
   ]
  },
  {
   "cell_type": "markdown",
   "id": "f76a6927",
   "metadata": {},
   "source": [
    "The above can be done multiple directories; by not utilizing a backslash in front of the first directory, the computer interprets this as switching to a directory not currently within the directory you are in. For this reason, commands like \"cd location 2/location3\" also work"
   ]
  },
  {
   "cell_type": "markdown",
   "id": "5b2f7fa6",
   "metadata": {},
   "source": [
    "cd (space) takes you to the home directory, where personal documents, downloads, and more are usually stored\n",
    "\n",
    "cd (space) . takes you to current directory"
   ]
  },
  {
   "cell_type": "markdown",
   "id": "56d2a889",
   "metadata": {},
   "source": [
    "cd .. takes you back one directory"
   ]
  },
  {
   "cell_type": "markdown",
   "id": "be96d9ba",
   "metadata": {},
   "source": [
    "You can use \"ls\" to print a list of files and folders in the current directory"
   ]
  },
  {
   "cell_type": "markdown",
   "id": "d5793a41",
   "metadata": {},
   "source": [
    "You can utilize the \"mkdir\" command, followed by an argument in the form of the new directory's name, to construct a new directory.\n",
    "\n",
    "To perform the opposite, the \"rmdir\" command will remove a directory from your computer. \n",
    "\n",
    "You can use \"rm\" to remove files as well. When you are in the same directory, you can simply use rm \"filename\" to remove a file. You can also use flags (denoted as such: -a, -r, etc.) when using rm to remove all files in a directory or the directory itself."
   ]
  },
  {
   "cell_type": "markdown",
   "id": "d6c79538",
   "metadata": {},
   "source": [
    "To move files, you can use the command \"mv\". You also need to pass in the arguments of the filename and new directory name. You can also rename the file when you move it. You can also simply copy the file to a new location with the command \"cp\" and the same arguments as above."
   ]
  },
  {
   "cell_type": "markdown",
   "id": "ededc6d3",
   "metadata": {},
   "source": []
  }
 ],
 "metadata": {
  "kernelspec": {
   "display_name": "Python 3 (ipykernel)",
   "language": "python",
   "name": "python3"
  },
  "language_info": {
   "codemirror_mode": {
    "name": "ipython",
    "version": 3
   },
   "file_extension": ".py",
   "mimetype": "text/x-python",
   "name": "python",
   "nbconvert_exporter": "python",
   "pygments_lexer": "ipython3",
   "version": "3.9.13"
  }
 },
 "nbformat": 4,
 "nbformat_minor": 5
}
