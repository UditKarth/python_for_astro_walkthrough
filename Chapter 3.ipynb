{
 "cells": [
  {
   "cell_type": "markdown",
   "id": "f331e9d7",
   "metadata": {},
   "source": [
    "# Chapter 3: Libraries and Basic Script Writing"
   ]
  },
  {
   "cell_type": "markdown",
   "id": "ee25e615",
   "metadata": {},
   "source": [
    "### Udit Karthikeyan"
   ]
  },
  {
   "cell_type": "markdown",
   "id": "18471c59",
   "metadata": {},
   "source": [
    "\"**Definition 3.0.1** A library is a maintained collection of functions which can be installed and\n",
    "imported into a Python code to be used. Numpy and Scipy are examples of libraries.\"\n",
    "\n",
    "Some examples of useful python libraries are NumPy, astrolib, and matplotlib. Larger libraries like NumPy usually come preinstalled. For others, there is an installation process required."
   ]
  },
  {
   "cell_type": "markdown",
   "id": "73fbd45c",
   "metadata": {},
   "source": [
    "In order to access the majority of the useful libraries available to Python, you can utilize the command *pip install* followed by the name of the library.  If this doesn't work, you may have to peruse google and download the folder for the library and run the setup.py script with the following line of code:\n",
    "\n",
    "*python setup.py install*"
   ]
  },
  {
   "cell_type": "markdown",
   "id": "82a0fe55",
   "metadata": {},
   "source": [
    "These libraries are not initialized within Python when it first begins, so it is important to import them in. This requires the use of an import statemen (basically just entering \"import\" and then the name of the library).\n",
    "\n",
    "You can use dot notation to import in specific classes within a library; this can save time and data usage. You can also import a library and effectively rename it to make later usage of the classes within more efficient. For example:\n",
    "{\n",
    "import numpy\n",
    "x = numpy.arrange(500)\n",
    "y = numpy.sin()\n",
    "}\n",
    "\n",
    "could be done as:\n",
    "{\n",
    "import numpy as np\n",
    "x = np.arrange(500)\n",
    "y = np.sin()\n",
    "}"
   ]
  },
  {
   "cell_type": "markdown",
   "id": "51391db3",
   "metadata": {},
   "source": [
    "\"**Definition 3.3.1** A program is a self-contained list of commands that are stored in a file that\n",
    "can be read by Python. Essentially, it is a text file, with each line being the exact syntax you\n",
    "would have typed into the terminal. Python then opens up your program and runs it through the\n",
    "interpreter, line by line.\""
   ]
  },
  {
   "cell_type": "markdown",
   "id": "5a048826",
   "metadata": {},
   "source": [
    "You can create a program by formulating specific commands (ie importing something, creating variables, using specific methods) and writing them using a plaintext editor. After saving it as a .py, you can open an interpreter and simply run the name of the program. "
   ]
  },
  {
   "cell_type": "markdown",
   "id": "cd0987af",
   "metadata": {},
   "source": [
    "### NumPy Arrays"
   ]
  },
  {
   "cell_type": "markdown",
   "id": "00cdd385",
   "metadata": {},
   "source": [
    "You can initialize NumPy arrays in a number of ways:\n",
    "\n"
   ]
  },
  {
   "cell_type": "code",
   "execution_count": 18,
   "id": "f00ca983",
   "metadata": {},
   "outputs": [
    {
     "name": "stdout",
     "output_type": "stream",
     "text": [
      "First iteration :[5.]\n",
      "Second iteration :[3. 5.]\n",
      "Third iteration :[7. 5.]\n",
      "Fourth iteration :[5.]\n",
      "[5.]\n"
     ]
    }
   ],
   "source": [
    "import numpy as np\n",
    "#The below values are placeholders\n",
    "len_desired = 5 \n",
    "start = 0\n",
    "stop = 3\n",
    "num = 1\n",
    "step = 1\n",
    "###\n",
    "\n",
    "empty = np.array([]) #Creates an empty array, to which you would need to add values\n",
    "zeros = np.zeros(len_desired) # creates an array of zeros\n",
    "ones = np.ones(len_desired) # creates an array of 1’s\n",
    "twos = np.ones(len_desired)*2 # creates an array of 2’s. You can multiply by any other number x to create an array of x values\n",
    "count = np.arange(start,stop,step) # creates an array of integers from start to stop in jumps of step\n",
    "resolution = np.linspace(start,stop,num) # creates an array of floats from start to stop with num\n",
    "# equally spread values\n",
    "logresolution = np.logspace(start,stop,num) # creates an array of floats from 10**start to 10**stop \n",
    "#with num logarithmically spread values \n",
    "\n",
    "\n",
    "#To add values to the array, you need to use the append function. This is done in the format:\n",
    "# array_name = numpy.append(array_name, value)\n",
    "empty = np.append(empty, 5)\n",
    "print(\"First iteration :\" + str(empty))\n",
    "\n",
    "#You can also use the insert function to place values at specific points. The format is:\n",
    "#arrayname = numpy.insert(arrayname, index, value)\n",
    "empty = np.insert(empty, 0, 3)\n",
    "print(\"Second iteration :\" + str(empty))\n",
    "\n",
    "#If you want to change a specific value at a certain point, you can use the following;\n",
    "# arrayname[index] = new value\n",
    "empty[0] = 7\n",
    "print(\"Third iteration :\" + str(empty))\n",
    "\n",
    "#To delete values, you simply use the delete function:\n",
    "# arrayname = numpy.delete(arrayname, indices). The indices can be a range if you want to delete multiple values\n",
    "empty = np.delete(empty, 0)\n",
    "print(\"Fourth iteration :\" + str(empty))\n",
    "\n",
    "#Finally, you can concatenate and split arrays. For concatenation, you use the following format:\n",
    "# np.concatenate((arr1, arr2, ...))\n",
    "arr = np.concatenate((empty, zeros))\n",
    "print(empty)"
   ]
  },
  {
   "cell_type": "markdown",
   "id": "16ad5914",
   "metadata": {},
   "source": []
  }
 ],
 "metadata": {
  "kernelspec": {
   "display_name": "Python 3 (ipykernel)",
   "language": "python",
   "name": "python3"
  },
  "language_info": {
   "codemirror_mode": {
    "name": "ipython",
    "version": 3
   },
   "file_extension": ".py",
   "mimetype": "text/x-python",
   "name": "python",
   "nbconvert_exporter": "python",
   "pygments_lexer": "ipython3",
   "version": "3.9.13"
  }
 },
 "nbformat": 4,
 "nbformat_minor": 5
}
