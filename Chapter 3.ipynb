{
 "cells": [
  {
   "cell_type": "markdown",
   "id": "f331e9d7",
   "metadata": {},
   "source": [
    "# Chapter 3"
   ]
  },
  {
   "cell_type": "markdown",
   "id": "ee25e615",
   "metadata": {},
   "source": [
    "### Udit Karthikeyan"
   ]
  },
  {
   "cell_type": "markdown",
   "id": "18471c59",
   "metadata": {},
   "source": [
    "\"**Definition 3.0.1** A library is a maintained collection of functions which can be installed and\n",
    "imported into a Python code to be used. Numpy and Scipy are examples of libraries.\"\n",
    "\n",
    "Some examples of useful python libraries are NumPy, astrolib, and matplotlib. Larger libraries like NumPy usually come preinstalled. For others, there is an installation process required."
   ]
  },
  {
   "cell_type": "markdown",
   "id": "73fbd45c",
   "metadata": {},
   "source": [
    "In order to access the majority of the useful libraries available to Python, you can utilize the command *pip install* followed by the name of the library.  If this doesn't work, you may have to peruse google and download the folder for the library and run the setup.py script with the following line of code:\n",
    "\n",
    "*python setup.py install*"
   ]
  },
  {
   "cell_type": "markdown",
   "id": "82a0fe55",
   "metadata": {},
   "source": [
    "These libraries are not initialized within Python when it first begins, so it is important to import them in. This requires the use of an import statement. "
   ]
  },
  {
   "cell_type": "code",
   "execution_count": null,
   "id": "395070c5",
   "metadata": {},
   "outputs": [],
   "source": []
  }
 ],
 "metadata": {
  "kernelspec": {
   "display_name": "Python 3 (ipykernel)",
   "language": "python",
   "name": "python3"
  },
  "language_info": {
   "codemirror_mode": {
    "name": "ipython",
    "version": 3
   },
   "file_extension": ".py",
   "mimetype": "text/x-python",
   "name": "python",
   "nbconvert_exporter": "python",
   "pygments_lexer": "ipython3",
   "version": "3.9.13"
  }
 },
 "nbformat": 4,
 "nbformat_minor": 5
}
