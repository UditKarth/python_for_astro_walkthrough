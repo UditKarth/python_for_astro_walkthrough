{
 "cells": [
  {
   "cell_type": "markdown",
   "id": "f331e9d7",
   "metadata": {},
   "source": [
    "# Chapter 3"
   ]
  },
  {
   "cell_type": "markdown",
   "id": "ee25e615",
   "metadata": {},
   "source": [
    "### Udit Karthikeyan"
   ]
  },
  {
   "cell_type": "markdown",
   "id": "18471c59",
   "metadata": {},
   "source": [
    "\"**Definition 3.0.1** A library is a maintained collection of functions which can be installed and\n",
    "imported into a Python code to be used. Numpy and Scipy are examples of libraries.\"\n",
    "\n",
    "Some examples of useful python libraries are NumPy, astrolib, and matplotlib"
   ]
  },
  {
   "cell_type": "markdown",
   "id": "73fbd45c",
   "metadata": {},
   "source": [
    "In order to access "
   ]
  },
  {
   "cell_type": "code",
   "execution_count": null,
   "id": "1553fed4",
   "metadata": {},
   "outputs": [],
   "source": []
  }
 ],
 "metadata": {
  "kernelspec": {
   "display_name": "Python 3 (ipykernel)",
   "language": "python",
   "name": "python3"
  },
  "language_info": {
   "codemirror_mode": {
    "name": "ipython",
    "version": 3
   },
   "file_extension": ".py",
   "mimetype": "text/x-python",
   "name": "python",
   "nbconvert_exporter": "python",
   "pygments_lexer": "ipython3",
   "version": "3.9.13"
  }
 },
 "nbformat": 4,
 "nbformat_minor": 5
}
