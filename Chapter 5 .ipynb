{
 "cells": [
  {
   "cell_type": "markdown",
   "id": "b076be1d",
   "metadata": {},
   "source": [
    "# Chapter 5: Data I/O (Input/Output)"
   ]
  },
  {
   "cell_type": "markdown",
   "id": "8f5eadaf",
   "metadata": {},
   "source": [
    "### Udit Karthikeyan"
   ]
  },
  {
   "cell_type": "markdown",
   "id": "b9d3025c",
   "metadata": {},
   "source": [
    "You can open files using the following command: \n",
    "\n",
    "`file1 = open(’filename.txt’,’w’)` \n",
    "\n",
    "The \"w\" stands for write. If you want to only read the file, you can use the flag \"r\". If you want to append data, you would use the flag \"a\"."
   ]
  },
  {
   "cell_type": "markdown",
   "id": "c97f0774",
   "metadata": {},
   "source": [
    "To write within a new file, you can use dot notation and the method \"write\":\n",
    "\n",
    "`file1 = open('filename.txt', 'w) `\n",
    "\n",
    "`file1.write(\"New data here\") `\n",
    "\n",
    "` file1.close() `"
   ]
  },
  {
   "cell_type": "markdown",
   "id": "69f1f56a",
   "metadata": {},
   "source": [
    "Another way you can access data is through loadtxt"
   ]
  },
  {
   "cell_type": "markdown",
   "id": "ad087b57",
   "metadata": {},
   "source": [
    "`data = np.loadtxt(filename.txt)`\n",
    "\n",
    "Since we are utilizing NumPy, there is additional functionality which can make it easier to extract certain aspects of the data. For instance, you can transpose data on the movement of planets and extract the velocity, time and position. \n",
    "\n",
    "`data = np.transpose(data)`\n",
    "\n",
    "`time = data[0]`\n",
    "\n",
    "`position = data[1]`\n",
    "\n",
    "`velocity = data[2]`\n",
    "\n",
    "If you wanted to skip the header and footer which are often used to describe data, you can use:\n",
    "\n",
    "` data = np.genfromtxt(‘file.txt’, skip_header=x, skip_footer=y)`, where x and y are the lengths of the header and footer respectively."
   ]
  },
  {
   "cell_type": "markdown",
   "id": "cd81825f",
   "metadata": {},
   "source": [
    "Being able to skip the header and footer becomes much more important in astronomical settings, where it is imperative to be able to extract data from images. This can be done through the FITS (flexible file transport system) file format, which always has a header containing information like the declination, ascension, exposure time, and a general description. \n",
    "\n",
    "To work with FITS files, you need to import the **pyfits** library (or use astropy.io.fits)."
   ]
  },
  {
   "cell_type": "code",
   "execution_count": 5,
   "id": "f33fa615",
   "metadata": {},
   "outputs": [
    {
     "ename": "NameError",
     "evalue": "name 'path' is not defined",
     "output_type": "error",
     "traceback": [
      "\u001b[1;31m---------------------------------------------------------------------------\u001b[0m",
      "\u001b[1;31mNameError\u001b[0m                                 Traceback (most recent call last)",
      "\u001b[1;32m~\\AppData\\Local\\Temp\\ipykernel_13588\\4158904644.py\u001b[0m in \u001b[0;36m<module>\u001b[1;34m\u001b[0m\n\u001b[0;32m      1\u001b[0m \u001b[1;32mimport\u001b[0m \u001b[0mastropy\u001b[0m\u001b[1;33m.\u001b[0m\u001b[0mio\u001b[0m\u001b[1;33m.\u001b[0m\u001b[0mfits\u001b[0m \u001b[1;32mas\u001b[0m \u001b[0mpf\u001b[0m\u001b[1;33m\u001b[0m\u001b[1;33m\u001b[0m\u001b[0m\n\u001b[1;32m----> 2\u001b[1;33m \u001b[0mfitsimg\u001b[0m \u001b[1;33m=\u001b[0m \u001b[0mpf\u001b[0m\u001b[1;33m.\u001b[0m\u001b[0mopen\u001b[0m\u001b[1;33m(\u001b[0m\u001b[0mpath\u001b[0m\u001b[1;33m)\u001b[0m \u001b[1;31m#here, path refers to a string detailing the path to the image on your computer\u001b[0m\u001b[1;33m\u001b[0m\u001b[1;33m\u001b[0m\u001b[0m\n\u001b[0m\u001b[0;32m      3\u001b[0m \u001b[1;33m\u001b[0m\u001b[0m\n\u001b[0;32m      4\u001b[0m \u001b[1;31m#You can get information from the header through the following methods\u001b[0m\u001b[1;33m\u001b[0m\u001b[1;33m\u001b[0m\u001b[0m\n\u001b[0;32m      5\u001b[0m \u001b[0mhead\u001b[0m \u001b[1;33m=\u001b[0m \u001b[0mfitsimg\u001b[0m\u001b[1;33m[\u001b[0m\u001b[1;36m0\u001b[0m\u001b[1;33m]\u001b[0m\u001b[1;33m.\u001b[0m\u001b[0mheader\u001b[0m\u001b[1;33m\u001b[0m\u001b[1;33m\u001b[0m\u001b[0m\n",
      "\u001b[1;31mNameError\u001b[0m: name 'path' is not defined"
     ]
    }
   ],
   "source": [
    "import astropy.io.fits as pf\n",
    "fitsimg = pf.open(path) #here, path refers to a string detailing the path to the image on your computer\n",
    "\n",
    "#You can get information from the header through the following methods\n",
    "head = fitsimg[0].header\n",
    "\n",
    "#If you want specific information from the header, you can also get it from the header\n",
    "#Keep in mind that none of the strings you need to enter below are case-sensitive\n",
    "\n",
    "ra = head['RA'] #This will give you the right ascension\n",
    "dec = head['DEC'] #This gives the declination\n",
    "time = head['EXPTIME'] #This will give the exposure time of the image\n",
    "\n",
    "img = fitsimg[0].data #This contains the 2D array of the image. Each FITS file can contain multiple images, which\n",
    "# is why the call is for data instead\n",
    "# To see the image, you would need to use  plt.imshow()"
   ]
  }
 ],
 "metadata": {
  "kernelspec": {
   "display_name": "Python [conda env:root] *",
   "language": "python",
   "name": "conda-root-py"
  },
  "language_info": {
   "codemirror_mode": {
    "name": "ipython",
    "version": 3
   },
   "file_extension": ".py",
   "mimetype": "text/x-python",
   "name": "python",
   "nbconvert_exporter": "python",
   "pygments_lexer": "ipython3",
   "version": "3.9.13"
  }
 },
 "nbformat": 4,
 "nbformat_minor": 5
}
