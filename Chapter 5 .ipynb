{
 "cells": [
  {
   "cell_type": "markdown",
   "id": "b076be1d",
   "metadata": {},
   "source": [
    "# Chapter 5: Data I/O (Input/Output)"
   ]
  },
  {
   "cell_type": "markdown",
   "id": "8f5eadaf",
   "metadata": {},
   "source": []
  }
 ],
 "metadata": {
  "kernelspec": {
   "display_name": "Python [conda env:root] *",
   "language": "python",
   "name": "conda-root-py"
  },
  "language_info": {
   "codemirror_mode": {
    "name": "ipython",
    "version": 3
   },
   "file_extension": ".py",
   "mimetype": "text/x-python",
   "name": "python",
   "nbconvert_exporter": "python",
   "pygments_lexer": "ipython3",
   "version": "3.9.13"
  }
 },
 "nbformat": 4,
 "nbformat_minor": 5
}
