{
 "cells": [
  {
   "cell_type": "markdown",
   "id": "1def5604",
   "metadata": {},
   "source": [
    "# Chapter 8: Classes and Object Oriented Programming"
   ]
  },
  {
   "cell_type": "markdown",
   "id": "f485a3ee",
   "metadata": {},
   "source": [
    "### Udit Karthikeyan"
   ]
  },
  {
   "cell_type": "markdown",
   "id": "18227f1f",
   "metadata": {},
   "source": [
    "   Object Oriented Programming enables coders to blend interrogative programming and modularity. It has become massively popular, and in fact most libraries are examples of object oreinted schemes (aka OOM).\n",
    "    \n",
    "   Classes are often used as an interchangeable term with objects, as they often operate the same. They are utilized to organize similar methods based on their usage (ie functions for plotting data is arranged into the library matplotlib). The two main components in all classes are the **attributes** (properties created in a specific instance of a class)and the **methods** (functions that each instance of a class can utilize)."
   ]
  },
  {
   "cell_type": "code",
   "execution_count": 11,
   "id": "9bd1d367",
   "metadata": {},
   "outputs": [
    {
     "name": "stdout",
     "output_type": "stream",
     "text": [
      "5.9e+24\n",
      "<bound method Planet.semimajoraxis of <__main__.Planet object at 0x0000022D4D9D3CD0>>\n"
     ]
    }
   ],
   "source": [
    "#An example of the syntax below\n",
    "class Planet(object):\n",
    "    #The first method in a class is always the init function, which requires a double \"_\" before and after the word\n",
    "    def __init__(self, #This word is arbitrary, but there needs to be a value given first and it needs to remain consistent \n",
    "                 planet_name, \n",
    "                 rev_period, mass):\n",
    "        self.planet_name =planet_name\n",
    "        self.rev_period =rev_period\n",
    "        self.mass = mass\n",
    "        \n",
    "#The self function is used to expand the scope of the later variables in the class. Otherwise, all the variables in the init\n",
    "# function would be considered local and couldn't be accessed outside of the function.\n",
    "    \n",
    "#From there, you can add any other function you wish. For example:\n",
    "    def semimajoraxis(self):\n",
    "        return self.rev_period**(2/3.)\n",
    "    \n",
    "#Normally, the classes you create are considered the highest level ones. However, you can make subclasses which draw\n",
    "#from parent classes. To do so, you need to call the parent class instead of object when first creating the class.\n",
    "\n",
    "class Dwarf_Planet(Planet):\n",
    "    def __init__(self):\n",
    "        return self.name + \":\" + \"Mass: \" + self.mass\n",
    "    \n",
    "    \n",
    "#If you want to initialize a class, you can simply initialize a variable in the class of your choosing. \n",
    "\n",
    "earth = Planet(\"Earth\", 24, 5.9E24)\n",
    "print(earth.mass)\n",
    "\n",
    "#You can also use the class methods on the newly created object\n",
    "print(earth.semimajoraxis)"
   ]
  }
 ],
 "metadata": {
  "kernelspec": {
   "display_name": "Python 3 (ipykernel)",
   "language": "python",
   "name": "python3"
  },
  "language_info": {
   "codemirror_mode": {
    "name": "ipython",
    "version": 3
   },
   "file_extension": ".py",
   "mimetype": "text/x-python",
   "name": "python",
   "nbconvert_exporter": "python",
   "pygments_lexer": "ipython3",
   "version": "3.9.13"
  }
 },
 "nbformat": 4,
 "nbformat_minor": 5
}
