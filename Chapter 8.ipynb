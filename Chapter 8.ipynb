{
 "cells": [
  {
   "cell_type": "markdown",
   "id": "1def5604",
   "metadata": {},
   "source": [
    "# Chapter 8: Classes and Object Oriented Programming"
   ]
  },
  {
   "cell_type": "markdown",
   "id": "f485a3ee",
   "metadata": {},
   "source": [
    "### Udit Karthikeyan"
   ]
  },
  {
   "cell_type": "code",
   "execution_count": null,
   "id": "e89ce7b7",
   "metadata": {},
   "outputs": [],
   "source": []
  }
 ],
 "metadata": {
  "kernelspec": {
   "display_name": "Python 3 (ipykernel)",
   "language": "python",
   "name": "python3"
  },
  "language_info": {
   "codemirror_mode": {
    "name": "ipython",
    "version": 3
   },
   "file_extension": ".py",
   "mimetype": "text/x-python",
   "name": "python",
   "nbconvert_exporter": "python",
   "pygments_lexer": "ipython3",
   "version": "3.9.13"
  }
 },
 "nbformat": 4,
 "nbformat_minor": 5
}
