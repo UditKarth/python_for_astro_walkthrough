{
 "cells": [
  {
   "cell_type": "markdown",
   "id": "877b9dd8",
   "metadata": {},
   "source": [
    "# Chapter 4"
   ]
  },
  {
   "cell_type": "markdown",
   "id": "6acc4632",
   "metadata": {},
   "source": [
    "### Udit Karthikeyan"
   ]
  },
  {
   "cell_type": "markdown",
   "id": "744e386d",
   "metadata": {},
   "source": [
    "\"**Definition 4.1.1** A conditional statement begins a defined, separated block of code which only\n",
    "executes (runs) if the conditional statement is evaluated by the interpreter to be “true”. Essentially,\n",
    "you are telling the computer “only run this block of code IF some condition is true.” The condition\n",
    "itself is determined by the programmer.\""
   ]
  },
  {
   "cell_type": "code",
   "execution_count": 9,
   "id": "99af4157",
   "metadata": {},
   "outputs": [
    {
     "name": "stdout",
     "output_type": "stream",
     "text": [
      "Enter a number:5\n"
     ]
    }
   ],
   "source": [
    "x = input(\"Enter a number:\")\n",
    "# The Python input function takes an input and immediately converts it into a string. For this case, we need to convert\n",
    "# the given input into an int format so that we can use conditional operations to produce a new output.\n",
    "x = int(x)\n",
    "y = 15\n",
    "\n",
    "if x > y :\n",
    "    print (\"X is greater than Y\")\n",
    "if y < x : \n",
    "    print (\"Y is greater than X\")"
   ]
  },
  {
   "cell_type": "markdown",
   "id": "15e112ee",
   "metadata": {},
   "source": [
    "The conditonal symbols are the same as those in Java, with the main difference between Python conditionals and Java ones being the differing syntax. In Python, there is no need to use curly braces to enclose the code you wish to enact through an if/else statement, and you don't need to enclose the statement in parantheses.\n",
    "\n",
    "An important difference in conditional statements between Java and Python is the way that \"and\" statements and \"or\" statements work. Instead of being represented with characters (ie. &&, ||), Python simply uses the word \"and\" as well as \"or\" to represent the conditional statement being described.Another important difference would be the use of \"elif\" instead of \"else if\"."
   ]
  },
  {
   "cell_type": "code",
   "execution_count": null,
   "id": "661aa6e5",
   "metadata": {},
   "outputs": [],
   "source": []
  }
 ],
 "metadata": {
  "kernelspec": {
   "display_name": "Python [conda env:root] *",
   "language": "python",
   "name": "conda-root-py"
  },
  "language_info": {
   "codemirror_mode": {
    "name": "ipython",
    "version": 3
   },
   "file_extension": ".py",
   "mimetype": "text/x-python",
   "name": "python",
   "nbconvert_exporter": "python",
   "pygments_lexer": "ipython3",
   "version": "3.9.13"
  }
 },
 "nbformat": 4,
 "nbformat_minor": 5
}
