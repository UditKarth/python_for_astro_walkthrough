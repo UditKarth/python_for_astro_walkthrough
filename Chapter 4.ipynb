{
 "cells": [
  {
   "cell_type": "markdown",
   "id": "1ef77c7e",
   "metadata": {},
   "source": [
    "# Chapter 4"
   ]
  },
  {
   "cell_type": "markdown",
   "id": "585f4bb7",
   "metadata": {},
   "source": [
    "### Udit Karthikeyan"
   ]
  },
  {
   "cell_type": "markdown",
   "id": "977069bb",
   "metadata": {},
   "source": [
    "\"**Definition 4.1.1** A conditional statement begins a defined, separated block of code which only\n",
    "executes (runs) if the conditional statement is evaluated by the interpreter to be “true”. Essentially,\n",
    "you are telling the computer “only run this block of code IF some condition is true.” The condition\n",
    "itself is determined by the programmer.\""
   ]
  },
  {
   "cell_type": "code",
   "execution_count": 9,
   "id": "7ffc499f",
   "metadata": {},
   "outputs": [
    {
     "name": "stdout",
     "output_type": "stream",
     "text": [
      "Enter a number:5\n"
     ]
    }
   ],
   "source": [
    "x = input(\"Enter a number:\")\n",
    "# The Python input function takes an input and immediately converts it into a string. For this case, we need to convert\n",
    "# the given input into an int format so that we can use conditional operations to produce a new output.\n",
    "x = int(x)\n",
    "y = 15\n",
    "\n",
    "if x > y :\n",
    "    print (\"X is greater than Y\")\n",
    "if y < x : \n",
    "    print (\"Y is greater than X\")"
   ]
  },
  {
   "cell_type": "markdown",
   "id": "9e70607e",
   "metadata": {},
   "source": [
    "The conditonal symbols are the same as those in Java, with the main difference between Python conditionals and Java ones being the differing syntax. In Python, there is no need to use curly braces to enclose the code you wish to enact through an if/else statement, and you don't need to enclose the statement in parantheses.\n",
    "\n",
    "An important difference in conditional statements between Java and Python is the way that \"and\" statements and \"or\" statements work. Instead of being represented with characters (ie. &&, ||), Python simply uses the word \"and\" as well as \"or\" to represent the conditional statement being described.Another important difference would be the use of \"elif\" instead of \"else if\"."
   ]
  },
  {
   "cell_type": "markdown",
   "id": "23d1853f",
   "metadata": {},
   "source": [
    "\"**Definition 4.2.1** A while-loop is a set off block of code that will continue to run sequentially,\n",
    "over and over, so long as a certain condition is met.\"\n",
    "\n",
    "The syntax of Python while statements is extremely analagous to Java while statements:"
   ]
  },
  {
   "cell_type": "code",
   "execution_count": 11,
   "id": "e489d80b",
   "metadata": {},
   "outputs": [
    {
     "name": "stdout",
     "output_type": "stream",
     "text": [
      "1\n",
      "2\n",
      "3\n",
      "4\n",
      "5\n"
     ]
    }
   ],
   "source": [
    "i = 0\n",
    "while i < 5:\n",
    "    i+= 1\n",
    "    print(i)\n",
    "    "
   ]
  },
  {
   "cell_type": "markdown",
   "id": "b8eee0b8",
   "metadata": {},
   "source": [
    "\"**Definition 4.2.2** A for-loop is a set off block of code that contains a temporary variable known\n",
    "as an iterator, and runs the block of code over and over for different specified values of that\n",
    "iterator.\"\n",
    "\n",
    "For loops are slightly different; there is no need for an increment to increase i by, nor to place specific statements to make it start at a point and go to another point. That being said, there are still ways to accomplish this:"
   ]
  },
  {
   "cell_type": "code",
   "execution_count": 16,
   "id": "fb970d22",
   "metadata": {},
   "outputs": [
    {
     "name": "stdout",
     "output_type": "stream",
     "text": [
      "z = 4\n",
      "z = 4\n",
      "z = 4\n",
      "z = 4\n",
      "The value in the array is: 1\n",
      "The value in the array is: 3\n",
      "The value in the array is: 5\n",
      "The value in the array is: 7\n",
      "The value in the array is: 13\n",
      "The value in the array is: 17\n"
     ]
    }
   ],
   "source": [
    "#Typical for loop going from 0 - z\n",
    "z = 4\n",
    "for i in range(z):\n",
    "    print(\"z = \" + str(z))\n",
    "\n",
    "#For loop over an array\n",
    "arr = [1, 3, 5, 7, 13, 17]\n",
    "for i in arr:\n",
    "    print(\"The value in the array is: \" + str(i))"
   ]
  },
  {
   "cell_type": "code",
   "execution_count": 19,
   "id": "b3191668",
   "metadata": {},
   "outputs": [
    {
     "name": "stdout",
     "output_type": "stream",
     "text": [
      "Current z = 5\n",
      "Current z = 6\n",
      "Current z = 7\n",
      "Current z = 8\n",
      "Current z = 9\n",
      "New z = 3\n",
      "New z = 5\n",
      "New z = 7\n",
      "New z = 9\n"
     ]
    }
   ],
   "source": [
    "#For loop with starting point != 0\n",
    "z = 10\n",
    "for i in range(5, z):\n",
    "    print(\"Current z = \" + str(i))\n",
    "\n",
    "    \n",
    "#For loop with starting point != 0 and increment by 2\n",
    "for i in range (3, z, 2):\n",
    "    print(\"New z = \" + str(i))\n",
    "    "
   ]
  },
  {
   "cell_type": "code",
   "execution_count": null,
   "id": "7a893030",
   "metadata": {},
   "outputs": [],
   "source": []
  }
 ],
 "metadata": {
  "kernelspec": {
   "display_name": "Python [conda env:root] *",
   "language": "python",
   "name": "conda-root-py"
  },
  "language_info": {
   "codemirror_mode": {
    "name": "ipython",
    "version": 3
   },
   "file_extension": ".py",
   "mimetype": "text/x-python",
   "name": "python",
   "nbconvert_exporter": "python",
   "pygments_lexer": "ipython3",
   "version": "3.9.13"
  }
 },
 "nbformat": 4,
 "nbformat_minor": 5
}
