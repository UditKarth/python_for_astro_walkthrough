{
 "cells": [
  {
   "cell_type": "markdown",
   "id": "6eb03fb0",
   "metadata": {},
   "source": [
    "# Chapter 7: Plotting"
   ]
  },
  {
   "cell_type": "markdown",
   "id": "420b482c",
   "metadata": {},
   "source": [
    "### Udit Karthikeyan"
   ]
  },
  {
   "cell_type": "code",
   "execution_count": null,
   "id": "7533c9c1",
   "metadata": {},
   "outputs": [],
   "source": []
  }
 ],
 "metadata": {
  "kernelspec": {
   "display_name": "Python 3 (ipykernel)",
   "language": "python",
   "name": "python3"
  },
  "language_info": {
   "codemirror_mode": {
    "name": "ipython",
    "version": 3
   },
   "file_extension": ".py",
   "mimetype": "text/x-python",
   "name": "python",
   "nbconvert_exporter": "python",
   "pygments_lexer": "ipython3",
   "version": "3.9.13"
  }
 },
 "nbformat": 4,
 "nbformat_minor": 5
}
