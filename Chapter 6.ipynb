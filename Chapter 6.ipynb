{
 "cells": [
  {
   "cell_type": "markdown",
   "id": "f0c76e87",
   "metadata": {},
   "source": [
    "# Chapter 6: Functional Programming"
   ]
  },
  {
   "cell_type": "markdown",
   "id": "5e63741b",
   "metadata": {},
   "source": [
    "### Udit Karthikeyan"
   ]
  },
  {
   "cell_type": "markdown",
   "id": "10be77de",
   "metadata": {},
   "source": [
    "Functions are one of the most useful tools available to programmers. We can utilize them to break \"steps\" into tasks that are both easier to perform and easier to debug. We can also utilize them in different projects, making coding much more efficient."
   ]
  },
  {
   "cell_type": "code",
   "execution_count": 6,
   "id": "ff191b00",
   "metadata": {},
   "outputs": [
    {
     "data": {
      "text/plain": [
       "8"
      ]
     },
     "execution_count": 6,
     "metadata": {},
     "output_type": "execute_result"
    }
   ],
   "source": [
    "#You can define functions using the command def, followed by the name.\n",
    "def add3(x):\n",
    "    return x + 3\n",
    "add3(5)\n"
   ]
  },
  {
   "cell_type": "code",
   "execution_count": 9,
   "id": "cae88ec9",
   "metadata": {},
   "outputs": [],
   "source": [
    "import astropy.io.fits as fits\n",
    "\n",
    "#The below function takes a file and immediately returns the image. \n",
    "def load_img(file_name) :\n",
    "    with fits.open(file_name) as hdulist:\n",
    "        img = hdulist[0].data\n",
    "    return img\n",
    "\n",
    "#when laying out the arguments for a function you are writing, any arguments you want to set defaults for must appear\n",
    "# after all the arguments that do not have set-defaults an require user entry.\n",
    "\n",
    "#For example; if the image isn't in the 1st place;\n",
    "bt167 = load_img(file_name_here, extension = 1)"
   ]
  },
  {
   "cell_type": "markdown",
   "id": "34c47882",
   "metadata": {},
   "source": [
    "Most variables in a function are considered local, in that they cannot be accessed from outside the function or after a function is called. You can still access global functions (the ones in your script), but it's considered better to use the variables input to the function. Keep in mind that you need to return variables from your functions to ensure that they can be accessed."
   ]
  },
  {
   "cell_type": "code",
   "execution_count": 13,
   "id": "59b08a7b",
   "metadata": {},
   "outputs": [
    {
     "name": "stdout",
     "output_type": "stream",
     "text": [
      "First 3\n",
      "Second 7\n",
      "Third 12\n"
     ]
    }
   ],
   "source": [
    "#You can set optional arguments in your code by providing a default value for them. For example:\n",
    "def add_all(val1, val2 = 0, val3 = 0):\n",
    "    return val1+val2+val3\n",
    "\n",
    "print(\"First \" + str(add_all(3)))\n",
    "print(\"Second \" + str(add_all(3, 4)))\n",
    "print(\"Third \" + str(add_all(3, 4, 5)))"
   ]
  },
  {
   "cell_type": "code",
   "execution_count": 17,
   "id": "5bb00609",
   "metadata": {},
   "outputs": [
    {
     "data": {
      "text/plain": [
       "42"
      ]
     },
     "execution_count": 17,
     "metadata": {},
     "output_type": "execute_result"
    }
   ],
   "source": [
    "#In the case where you don't know how many arguments are needed, you can also set variable numbers of arguments. \n",
    "#The commands for this are \"*args\" and \"**kwargs\" (meaning keyword args)\n",
    "\n",
    "#In the case of *args, the new arguments are placed into a list, enabling you to use a for loop to iterate through them\n",
    "def return_sum(*args):\n",
    "    total = 0\n",
    "    for arg in args:\n",
    "        total += arg\n",
    "    return total\n",
    "\n",
    "return_sum(3, 4, 5, 6, 7, 8, 9)\n",
    "#You could call return_sum with any number of arguments, and it would return the sum of those arguments"
   ]
  },
  {
   "cell_type": "code",
   "execution_count": 19,
   "id": "4b31f8fe",
   "metadata": {},
   "outputs": [
    {
     "ename": "TypeError",
     "evalue": "tuple indices must be integers or slices, not str",
     "output_type": "error",
     "traceback": [
      "\u001b[1;31m---------------------------------------------------------------------------\u001b[0m",
      "\u001b[1;31mTypeError\u001b[0m                                 Traceback (most recent call last)",
      "\u001b[1;32m~\\AppData\\Local\\Temp\\ipykernel_13740\\2460716003.py\u001b[0m in \u001b[0;36m<module>\u001b[1;34m\u001b[0m\n\u001b[0;32m      7\u001b[0m         \u001b[0mprint\u001b[0m\u001b[1;33m(\u001b[0m\u001b[1;34m\"argument : \"\u001b[0m \u001b[1;33m+\u001b[0m \u001b[0mkwargs\u001b[0m\u001b[1;33m[\u001b[0m\u001b[0mkey\u001b[0m\u001b[1;33m]\u001b[0m\u001b[1;33m)\u001b[0m\u001b[1;33m\u001b[0m\u001b[1;33m\u001b[0m\u001b[0m\n\u001b[0;32m      8\u001b[0m \u001b[1;33m\u001b[0m\u001b[0m\n\u001b[1;32m----> 9\u001b[1;33m \u001b[0mkey_arg\u001b[0m\u001b[1;33m(\u001b[0m\u001b[1;34m\"red\"\u001b[0m\u001b[1;33m,\u001b[0m \u001b[1;34m\"green\"\u001b[0m\u001b[1;33m)\u001b[0m\u001b[1;33m\u001b[0m\u001b[1;33m\u001b[0m\u001b[0m\n\u001b[0m",
      "\u001b[1;32m~\\AppData\\Local\\Temp\\ipykernel_13740\\2460716003.py\u001b[0m in \u001b[0;36mkey_arg\u001b[1;34m(*kwargs)\u001b[0m\n\u001b[0;32m      5\u001b[0m \u001b[1;32mdef\u001b[0m \u001b[0mkey_arg\u001b[0m\u001b[1;33m(\u001b[0m\u001b[1;33m*\u001b[0m\u001b[0mkwargs\u001b[0m\u001b[1;33m)\u001b[0m \u001b[1;33m:\u001b[0m\u001b[1;33m\u001b[0m\u001b[1;33m\u001b[0m\u001b[0m\n\u001b[0;32m      6\u001b[0m     \u001b[1;32mfor\u001b[0m \u001b[0mkey\u001b[0m \u001b[1;32min\u001b[0m \u001b[0mkwargs\u001b[0m\u001b[1;33m:\u001b[0m\u001b[1;33m\u001b[0m\u001b[1;33m\u001b[0m\u001b[0m\n\u001b[1;32m----> 7\u001b[1;33m         \u001b[0mprint\u001b[0m\u001b[1;33m(\u001b[0m\u001b[1;34m\"argument : \"\u001b[0m \u001b[1;33m+\u001b[0m \u001b[0mkwargs\u001b[0m\u001b[1;33m[\u001b[0m\u001b[0mkey\u001b[0m\u001b[1;33m]\u001b[0m\u001b[1;33m)\u001b[0m\u001b[1;33m\u001b[0m\u001b[1;33m\u001b[0m\u001b[0m\n\u001b[0m\u001b[0;32m      8\u001b[0m \u001b[1;33m\u001b[0m\u001b[0m\n\u001b[0;32m      9\u001b[0m \u001b[0mkey_arg\u001b[0m\u001b[1;33m(\u001b[0m\u001b[1;34m\"red\"\u001b[0m\u001b[1;33m,\u001b[0m \u001b[1;34m\"green\"\u001b[0m\u001b[1;33m)\u001b[0m\u001b[1;33m\u001b[0m\u001b[1;33m\u001b[0m\u001b[0m\n",
      "\u001b[1;31mTypeError\u001b[0m: tuple indices must be integers or slices, not str"
     ]
    }
   ],
   "source": [
    "#**kwargs works slightly differently. You can still place a variable number of arguments, but they are not placed into a \n",
    "#list. Instead, you need to give each argument a new keyword by setting it equal to it in the function call. **kwargs then\n",
    "# creates a dictionary with the new arguments\n",
    "\n",
    "def key_arg(*kwargs) :\n",
    "    for key in kwargs:\n",
    "        print(\"argument : \" + kwargs[key])\n",
    "\n",
    "key_arg(\"red\", \"green\")"
   ]
  },
  {
   "cell_type": "code",
   "execution_count": null,
   "id": "fdc2f9ee",
   "metadata": {},
   "outputs": [],
   "source": []
  }
 ],
 "metadata": {
  "kernelspec": {
   "display_name": "Python [conda env:root] *",
   "language": "python",
   "name": "conda-root-py"
  },
  "language_info": {
   "codemirror_mode": {
    "name": "ipython",
    "version": 3
   },
   "file_extension": ".py",
   "mimetype": "text/x-python",
   "name": "python",
   "nbconvert_exporter": "python",
   "pygments_lexer": "ipython3",
   "version": "3.9.13"
  }
 },
 "nbformat": 4,
 "nbformat_minor": 5
}
