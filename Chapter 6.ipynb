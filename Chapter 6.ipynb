{
 "cells": [
  {
   "cell_type": "markdown",
   "id": "f0c76e87",
   "metadata": {},
   "source": [
    "# Chapter 6: Functional Programming"
   ]
  },
  {
   "cell_type": "markdown",
   "id": "5e63741b",
   "metadata": {},
   "source": [
    "### Udit Karthikeyan"
   ]
  },
  {
   "cell_type": "markdown",
   "id": "10be77de",
   "metadata": {},
   "source": [
    "Functions are one of the most useful tools available to programmers. We can utilize them to break \"steps\" into tasks that are both easier to perform and easier to debug. We can also utilize them in different projects, making coding much more efficient."
   ]
  },
  {
   "cell_type": "code",
   "execution_count": 6,
   "id": "ff191b00",
   "metadata": {},
   "outputs": [
    {
     "data": {
      "text/plain": [
       "8"
      ]
     },
     "execution_count": 6,
     "metadata": {},
     "output_type": "execute_result"
    }
   ],
   "source": [
    "#You can define functions using the command def, followed by the name.\n",
    "def add3(x):\n",
    "    return x + 3\n",
    "add3(5)\n"
   ]
  },
  {
   "cell_type": "code",
   "execution_count": 9,
   "id": "1ddfc3b1",
   "metadata": {},
   "outputs": [],
   "source": [
    "import astropy.io.fits as fits\n",
    "\n",
    "#The below function takes a file and immediately returns the image. \n",
    "def load_img(file_name) :\n",
    "    with fits.open(file_name) as hdulist:\n",
    "        img = hdulist[0].data\n",
    "    return img\n",
    "\n",
    "#when laying out the arguments for a function you are writing, any arguments you want to set defaults for must appear\n",
    "# after all the arguments that do not have set-defaults an require user entry.\n",
    "\n",
    "#For example; if the image isn't in the 1st place;\n",
    "bt167 = load_img(file_name_here, extension = 1)"
   ]
  },
  {
   "cell_type": "markdown",
   "id": "d787e27f",
   "metadata": {},
   "source": [
    "Most variables in a function are considered local, in that they cannot be accessed from outside the function or after a function is called. You can still access global functions (the ones in your script), but it's considered better to use the variables input to the function. Keep in mind that you need to return variables from your functions to ensure that they can be accessed."
   ]
  },
  {
   "cell_type": "code",
   "execution_count": 13,
   "id": "826dc2e7",
   "metadata": {},
   "outputs": [
    {
     "name": "stdout",
     "output_type": "stream",
     "text": [
      "First 3\n",
      "Second 7\n",
      "Third 12\n"
     ]
    }
   ],
   "source": [
    "#You can set optional arguments in your code by providing a default value for them. For example:\n",
    "def add_all(val1, val2 = 0, val3 = 0):\n",
    "    return val1+val2+val3\n",
    "\n",
    "print(\"First \" + str(add_all(3)))\n",
    "print(\"Second \" + str(add_all(3, 4)))\n",
    "print(\"Third \" + str(add_all(3, 4, 5)))"
   ]
  },
  {
   "cell_type": "code",
   "execution_count": 17,
   "id": "675f6de0",
   "metadata": {},
   "outputs": [
    {
     "data": {
      "text/plain": [
       "42"
      ]
     },
     "execution_count": 17,
     "metadata": {},
     "output_type": "execute_result"
    }
   ],
   "source": [
    "#In the case where you don't know how many arguments are needed, you can also set variable numbers of arguments. \n",
    "#The commands for this are \"*args\" and \"**kwargs\" (meaning keyword args)\n",
    "\n",
    "#In the case of *args, the new arguments are placed into a list, enabling you to use a for loop to iterate through them\n",
    "def return_sum(*args):\n",
    "    total = 0\n",
    "    for arg in args:\n",
    "        total += arg\n",
    "    return total\n",
    "\n",
    "return_sum(3, 4, 5, 6, 7, 8, 9)\n",
    "#You could call return_sum with any number of arguments, and it would return the sum of those arguments"
   ]
  },
  {
   "cell_type": "code",
   "execution_count": 22,
   "id": "292b03d0",
   "metadata": {},
   "outputs": [
    {
     "name": "stdout",
     "output_type": "stream",
     "text": [
      "argument : red\n",
      "argument : green\n"
     ]
    }
   ],
   "source": [
    "#**kwargs works slightly differently. You can still place a variable number of arguments, but they are not placed into a \n",
    "#list. Instead, you need to give each argument a new keyword by setting it equal to it in the function call. **kwargs then\n",
    "# creates a dictionary with the new arguments\n",
    "\n",
    "def key_arg(**kwargs) :\n",
    "    for key in kwargs:\n",
    "        print(\"argument : \" + kwargs[key])\n",
    "\n",
    "key_arg(arg1=\"red\", arg2=\"green\")\n",
    "\n",
    "#Y"
   ]
  }
 ],
 "metadata": {
  "kernelspec": {
   "display_name": "Python [conda env:root] *",
   "language": "python",
   "name": "conda-root-py"
  },
  "language_info": {
   "codemirror_mode": {
    "name": "ipython",
    "version": 3
   },
   "file_extension": ".py",
   "mimetype": "text/x-python",
   "name": "python",
   "nbconvert_exporter": "python",
   "pygments_lexer": "ipython3",
   "version": "3.9.13"
  }
 },
 "nbformat": 4,
 "nbformat_minor": 5
}
