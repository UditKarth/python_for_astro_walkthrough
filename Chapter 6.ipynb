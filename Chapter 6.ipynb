{
 "cells": [
  {
   "cell_type": "markdown",
   "id": "f0c76e87",
   "metadata": {},
   "source": [
    "# Chapter 6: Functional Programming"
   ]
  },
  {
   "cell_type": "markdown",
   "id": "5e63741b",
   "metadata": {},
   "source": [
    "### Udit Karthikeyan"
   ]
  },
  {
   "cell_type": "markdown",
   "id": "10be77de",
   "metadata": {},
   "source": [
    "Functions are one of the most useful tools available to programmers. We can utilize them to break \"steps\" into tasks that are both easier to perform and easier to debug. We can also utilize them in different projects, making coding much more efficient."
   ]
  },
  {
   "cell_type": "code",
   "execution_count": null,
   "id": "ff191b00",
   "metadata": {},
   "outputs": [],
   "source": []
  }
 ],
 "metadata": {
  "kernelspec": {
   "display_name": "Python [conda env:root] *",
   "language": "python",
   "name": "conda-root-py"
  },
  "language_info": {
   "codemirror_mode": {
    "name": "ipython",
    "version": 3
   },
   "file_extension": ".py",
   "mimetype": "text/x-python",
   "name": "python",
   "nbconvert_exporter": "python",
   "pygments_lexer": "ipython3",
   "version": "3.9.13"
  }
 },
 "nbformat": 4,
 "nbformat_minor": 5
}
