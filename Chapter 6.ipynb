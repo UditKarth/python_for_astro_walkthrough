{
 "cells": [
  {
   "cell_type": "markdown",
   "id": "0aa65828",
   "metadata": {},
   "source": [
    "# Chapter 6: Functional Programming"
   ]
  },
  {
   "cell_type": "markdown",
   "id": "5fd5ae06",
   "metadata": {},
   "source": [
    "### Udit Karthikeyan"
   ]
  },
  {
   "cell_type": "markdown",
   "id": "3246784c",
   "metadata": {},
   "source": [
    "Functions are one of the most useful tools avai"
   ]
  }
 ],
 "metadata": {
  "kernelspec": {
   "display_name": "Python [conda env:root] *",
   "language": "python",
   "name": "conda-root-py"
  },
  "language_info": {
   "codemirror_mode": {
    "name": "ipython",
    "version": 3
   },
   "file_extension": ".py",
   "mimetype": "text/x-python",
   "name": "python",
   "nbconvert_exporter": "python",
   "pygments_lexer": "ipython3",
   "version": "3.9.13"
  }
 },
 "nbformat": 4,
 "nbformat_minor": 5
}
