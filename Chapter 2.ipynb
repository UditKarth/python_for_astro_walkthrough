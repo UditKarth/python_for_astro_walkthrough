{
 "cells": [
  {
   "cell_type": "markdown",
   "id": "d20b02c8",
   "metadata": {},
   "source": [
    "# Chapter 2: Basic Python\n",
    "\n",
    "### Udit Karthikeyan"
   ]
  },
  {
   "cell_type": "markdown",
   "id": "2dd34768",
   "metadata": {},
   "source": [
    "\"**Definition 2.0.1** Python is a programming language (and yes, it’s named for the sketch troupe\n",
    "Monty Python). It is an interpreted high-level programming language for general-purpose\n",
    "programming, and one of the most common languages used in astronomy.\""
   ]
  },
  {
   "cell_type": "markdown",
   "id": "f1e77467",
   "metadata": {},
   "source": [
    "### 2.1: Hello World"
   ]
  },
  {
   "cell_type": "code",
   "execution_count": 4,
   "id": "12379fc0",
   "metadata": {},
   "outputs": [
    {
     "name": "stdout",
     "output_type": "stream",
     "text": [
      "hello world!\n"
     ]
    }
   ],
   "source": [
    "print('hello world!')"
   ]
  },
  {
   "cell_type": "markdown",
   "id": "3e9d9cf3",
   "metadata": {},
   "source": [
    "The difference between Python and Java as seen by the Hello World trivial example is the difference in syntax between the print statements; where Java utilizes \"System.out.print\", Python simply uses \"print\". A somewhat recent change has been the need to treat the print statement as a function, needing parentheses; before, \"print x\" would return an output."
   ]
  },
  {
   "cell_type": "markdown",
   "id": "cec8c19d",
   "metadata": {},
   "source": [
    "\"**Definition 2.1.1**: A print statement is a line of code which tells the interpreter (the thing that\n",
    "turns your \"English\" commands into computer bits and executes them within the bowels of your\n",
    "computer) to output something to the screen.\""
   ]
  },
  {
   "cell_type": "code",
   "execution_count": 10,
   "id": "044034c1",
   "metadata": {},
   "outputs": [
    {
     "data": {
      "text/plain": [
       "15"
      ]
     },
     "execution_count": 10,
     "metadata": {},
     "output_type": "execute_result"
    }
   ],
   "source": [
    "3 * 5"
   ]
  },
  {
   "cell_type": "code",
   "execution_count": 11,
   "id": "496c147b",
   "metadata": {
    "scrolled": true
   },
   "outputs": [
    {
     "name": "stdout",
     "output_type": "stream",
     "text": [
      "15\n"
     ]
    }
   ],
   "source": [
    "print(3*5)"
   ]
  },
  {
   "cell_type": "markdown",
   "id": "306574d3",
   "metadata": {},
   "source": [
    "\"**Definition 2.2.1** Data types are the fundamental building blocks of a code, a property that every\n",
    "object/element/variable in a written code will have, and which will determine the rules by which\n",
    "Python operates on them.\""
   ]
  },
  {
   "cell_type": "code",
   "execution_count": 7,
   "id": "d80f24d6",
   "metadata": {
    "scrolled": true
   },
   "outputs": [
    {
     "data": {
      "text/plain": [
       "int"
      ]
     },
     "execution_count": 7,
     "metadata": {},
     "output_type": "execute_result"
    }
   ],
   "source": [
    "type(3*5)"
   ]
  },
  {
   "cell_type": "code",
   "execution_count": 8,
   "id": "d9d2a623",
   "metadata": {},
   "outputs": [
    {
     "data": {
      "text/plain": [
       "float"
      ]
     },
     "execution_count": 8,
     "metadata": {},
     "output_type": "execute_result"
    }
   ],
   "source": [
    "type(3.0*5.0)"
   ]
  },
  {
   "cell_type": "code",
   "execution_count": 12,
   "id": "6f88fb57",
   "metadata": {},
   "outputs": [
    {
     "data": {
      "text/plain": [
       "str"
      ]
     },
     "execution_count": 12,
     "metadata": {},
     "output_type": "execute_result"
    }
   ],
   "source": [
    "type(\"Hello world!\")"
   ]
  },
  {
   "cell_type": "code",
   "execution_count": 13,
   "id": "4d19be8f",
   "metadata": {},
   "outputs": [
    {
     "data": {
      "text/plain": [
       "list"
      ]
     },
     "execution_count": 13,
     "metadata": {},
     "output_type": "execute_result"
    }
   ],
   "source": [
    "type([1,2,2,3])"
   ]
  },
  {
   "cell_type": "code",
   "execution_count": 20,
   "id": "c30d8cd5",
   "metadata": {},
   "outputs": [
    {
     "data": {
      "text/plain": [
       "set"
      ]
     },
     "execution_count": 20,
     "metadata": {},
     "output_type": "execute_result"
    }
   ],
   "source": [
    "type({1,2,3})"
   ]
  },
  {
   "cell_type": "code",
   "execution_count": 15,
   "id": "76c2082b",
   "metadata": {},
   "outputs": [
    {
     "data": {
      "text/plain": [
       "tuple"
      ]
     },
     "execution_count": 15,
     "metadata": {},
     "output_type": "execute_result"
    }
   ],
   "source": [
    "type((1,2, \"hello\"))"
   ]
  },
  {
   "cell_type": "code",
   "execution_count": 16,
   "id": "75e37d51",
   "metadata": {},
   "outputs": [
    {
     "data": {
      "text/plain": [
       "bool"
      ]
     },
     "execution_count": 16,
     "metadata": {},
     "output_type": "execute_result"
    }
   ],
   "source": [
    "type(True)"
   ]
  },
  {
   "cell_type": "markdown",
   "id": "f759c500",
   "metadata": {},
   "source": [
    "Type casting can be done in python; you can convert ints to floats pretty easily, and can convert a String consisting purely of numbers into a int."
   ]
  },
  {
   "cell_type": "code",
   "execution_count": 19,
   "id": "e2ce4948",
   "metadata": {},
   "outputs": [
    {
     "name": "stdout",
     "output_type": "stream",
     "text": [
      "<class 'int'>\n"
     ]
    }
   ],
   "source": [
    "x = 5.0\n",
    "y = int(x)\n",
    "print (type(y))"
   ]
  },
  {
   "cell_type": "markdown",
   "id": "dfeefd49",
   "metadata": {},
   "source": [
    "Note with working with lists:"
   ]
  },
  {
   "cell_type": "code",
   "execution_count": 21,
   "id": "d085cd30",
   "metadata": {},
   "outputs": [
    {
     "name": "stdout",
     "output_type": "stream",
     "text": [
      "[1, 2, 3, 3, 5, 1, 2, 3, 3, 5]\n"
     ]
    }
   ],
   "source": [
    "new_list = [1,2,3,3,5]\n",
    "list1 = new_list * 2\n",
    "print(list1)"
   ]
  },
  {
   "cell_type": "markdown",
   "id": "3515cda2",
   "metadata": {},
   "source": [
    "If you want to multiply the values inside of a list, you need to do the following: "
   ]
  },
  {
   "cell_type": "code",
   "execution_count": 27,
   "id": "e383e5e5",
   "metadata": {},
   "outputs": [
    {
     "name": "stdout",
     "output_type": "stream",
     "text": [
      "[2, 4, 6, 8, 10]\n"
     ]
    }
   ],
   "source": [
    "list1 = [1,2,3,4,5]\n",
    "list2 = [i*2 for i in list1]\n",
    "print(list2)"
   ]
  },
  {
   "cell_type": "markdown",
   "id": "530c0200",
   "metadata": {},
   "source": [
    "If using NumPy, you can also use an array and then simply multiply the array by 2"
   ]
  },
  {
   "cell_type": "markdown",
   "id": "2e49910d",
   "metadata": {},
   "source": [
    "To retrieve the data in lists, you need to slice the array at certain indices to retrieve the data. Indices are the numbers assigned to each element of a list, starting from 0. When slicing, the first index is the starting point, and the second index (if included) is the ending point but is excluded from the \"slice\""
   ]
  },
  {
   "cell_type": "code",
   "execution_count": 30,
   "id": "312bbec2",
   "metadata": {},
   "outputs": [
    {
     "name": "stdout",
     "output_type": "stream",
     "text": [
      "2\n"
     ]
    }
   ],
   "source": [
    "new_list = [1, 2, 3, 5, 'Hello']\n",
    "list_element = new_list[1]\n",
    "print(list_element)"
   ]
  },
  {
   "cell_type": "markdown",
   "id": "ace44a98",
   "metadata": {},
   "source": [
    "You can slice arrays and strings in the same way:"
   ]
  },
  {
   "cell_type": "code",
   "execution_count": 32,
   "id": "2d8ed341",
   "metadata": {},
   "outputs": [
    {
     "name": "stdout",
     "output_type": "stream",
     "text": [
      "The\n"
     ]
    }
   ],
   "source": [
    "String = \"The James Webb Telescope\"\n",
    "s1 = String[0:3]\n",
    "print(s1)"
   ]
  },
  {
   "cell_type": "markdown",
   "id": "ba6e3ae8",
   "metadata": {},
   "source": [
    "You can iterate through a list backwards by using negative indices:"
   ]
  },
  {
   "cell_type": "code",
   "execution_count": 41,
   "id": "8867fdaf",
   "metadata": {},
   "outputs": [
    {
     "name": "stdout",
     "output_type": "stream",
     "text": [
      "Telescope\n"
     ]
    }
   ],
   "source": [
    "String = \"The James Webb Telescope\"\n",
    "s1 = String[-9:]\n",
    "print(s1)"
   ]
  },
  {
   "cell_type": "markdown",
   "id": "8d23dced",
   "metadata": {},
   "source": [
    "We can alter the elements of lists by appending, changing, or deleting certain elements:"
   ]
  },
  {
   "cell_type": "code",
   "execution_count": 42,
   "id": "9559e8e7",
   "metadata": {},
   "outputs": [
    {
     "name": "stdout",
     "output_type": "stream",
     "text": [
      "[1, 2, 3, 'new value', 5, 6, 7]\n"
     ]
    }
   ],
   "source": [
    "list1 = [1,2,3,4,5,6,7]\n",
    "list1[3] = 'new value'\n",
    "print(list1)"
   ]
  },
  {
   "cell_type": "code",
   "execution_count": 44,
   "id": "66087688",
   "metadata": {},
   "outputs": [
    {
     "name": "stdout",
     "output_type": "stream",
     "text": [
      "[1, 2, 3, 4, 6, 7]\n"
     ]
    }
   ],
   "source": [
    "list1 = [1,2,3,4,5,6,7]\n",
    "del list1[4]\n",
    "print(list1)"
   ]
  },
  {
   "cell_type": "code",
   "execution_count": 45,
   "id": "66ad91d9",
   "metadata": {},
   "outputs": [
    {
     "name": "stdout",
     "output_type": "stream",
     "text": [
      "[1, 2, 3, 4, 5, 6, 7]\n"
     ]
    }
   ],
   "source": [
    "list1 = [1,2,3,4,5,6]\n",
    "list1.append(7)\n",
    "print(list1)"
   ]
  },
  {
   "cell_type": "markdown",
   "id": "e50f8b74",
   "metadata": {},
   "source": [
    "We can also flip an array. This mostly works with multidimensional arrays, but can be done with a single-dimension array"
   ]
  },
  {
   "cell_type": "code",
   "execution_count": 46,
   "id": "b01cef5b",
   "metadata": {},
   "outputs": [
    {
     "name": "stdout",
     "output_type": "stream",
     "text": [
      "[[7, 8, 9], [4, 5, 6], [1, 2, 3]]\n"
     ]
    }
   ],
   "source": [
    "list1 = [[1,2,3],[4,5,6],[7,8,9]]\n",
    "list2 = list1[::-1]\n",
    "print(list2)"
   ]
  },
  {
   "cell_type": "code",
   "execution_count": 51,
   "id": "5a39e793",
   "metadata": {},
   "outputs": [
    {
     "name": "stdout",
     "output_type": "stream",
     "text": [
      "[6, 5, 4, 3, 2, 1]\n"
     ]
    }
   ],
   "source": [
    "list1 = [1,2,3,4,5,6]\n",
    "list2 = list1[::-1]\n",
    "print(list2)"
   ]
  },
  {
   "cell_type": "markdown",
   "id": "04f7dfb4",
   "metadata": {},
   "source": [
    "\"**Definition 2.8.1** A dictionary is a Python container, like a list or array, but which uses “keys”\n",
    "instead of indices to specify elements within the container. That is, the order of elements (values)\n",
    "in a dictionary is irrelevant, and values are retrieved by indexing for the appropriate key (which\n",
    "can be almost anything)\""
   ]
  },
  {
   "cell_type": "code",
   "execution_count": 54,
   "id": "aa363128",
   "metadata": {},
   "outputs": [
    {
     "name": "stdout",
     "output_type": "stream",
     "text": [
      "1999 and Moon\n"
     ]
    }
   ],
   "source": [
    "dictionary = {\"key1\": \"1999\", 2: \"Moon\"}\n",
    "val1 = dictionary[\"key1\"]\n",
    "val2 = dictionary[2]\n",
    "print(val1 + \" and \" + val2)"
   ]
  },
  {
   "cell_type": "code",
   "execution_count": 55,
   "id": "06419349",
   "metadata": {},
   "outputs": [
    {
     "name": "stdout",
     "output_type": "stream",
     "text": [
      "{'key1': '1999', 2: 'Moon', 'new_val': 'Awareness'}\n"
     ]
    }
   ],
   "source": [
    "dictionary = {\"key1\": \"1999\", 2: \"Moon\"}\n",
    "val1 = dictionary[\"key1\"]\n",
    "val2 = dictionary[2]\n",
    "dictionary[\"new_val\"] = \"Awareness\"\n",
    "print(dictionary)"
   ]
  },
  {
   "cell_type": "markdown",
   "id": "1d3a49d2",
   "metadata": {},
   "source": [
    "***Problems for Chapter 2***"
   ]
  },
  {
   "cell_type": "markdown",
   "id": "d04e33da",
   "metadata": {},
   "source": []
  },
  {
   "cell_type": "markdown",
   "id": "3816736c",
   "metadata": {},
   "source": []
  }
 ],
 "metadata": {
  "kernelspec": {
   "display_name": "Python 3 (ipykernel)",
   "language": "python",
   "name": "python3"
  },
  "language_info": {
   "codemirror_mode": {
    "name": "ipython",
    "version": 3
   },
   "file_extension": ".py",
   "mimetype": "text/x-python",
   "name": "python",
   "nbconvert_exporter": "python",
   "pygments_lexer": "ipython3",
   "version": "3.9.13"
  }
 },
 "nbformat": 4,
 "nbformat_minor": 5
}
