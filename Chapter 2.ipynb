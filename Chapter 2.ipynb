{
 "cells": [
  {
   "cell_type": "markdown",
   "id": "70ab0043",
   "metadata": {},
   "source": [
    "# Chapter 2: Basic Python\n",
    "\n",
    "### Udit Karthikeyan"
   ]
  },
  {
   "cell_type": "markdown",
   "id": "95a9f767",
   "metadata": {},
   "source": [
    "\"**Definition 2.0.1** Python is a programming language (and yes, it’s named for the sketch troupe\n",
    "Monty Python). It is an interpreted high-level programming language for general-purpose\n",
    "programming, and one of the most common languages used in astronomy.\""
   ]
  },
  {
   "cell_type": "markdown",
   "id": "50f6a86e",
   "metadata": {},
   "source": [
    "### 2.1: Hello World"
   ]
  },
  {
   "cell_type": "code",
   "execution_count": 4,
   "id": "b1e46480",
   "metadata": {},
   "outputs": [
    {
     "name": "stdout",
     "output_type": "stream",
     "text": [
      "hello world!\n"
     ]
    }
   ],
   "source": [
    "print('hello world!') #Python Hello world is different from Java because___________"
   ]
  },
  {
   "cell_type": "markdown",
   "id": "cef29a22",
   "metadata": {},
   "source": [
    "The difference between Python and Java as seen by the Hello World trivial example is that the __________"
   ]
  },
  {
   "cell_type": "code",
   "execution_count": 6,
   "id": "bd067a87",
   "metadata": {},
   "outputs": [
    {
     "data": {
      "text/plain": [
       "15"
      ]
     },
     "execution_count": 6,
     "metadata": {},
     "output_type": "execute_result"
    }
   ],
   "source": [
    "3 * 5"
   ]
  },
  {
   "cell_type": "code",
   "execution_count": 7,
   "id": "bf39de49",
   "metadata": {},
   "outputs": [
    {
     "data": {
      "text/plain": [
       "int"
      ]
     },
     "execution_count": 7,
     "metadata": {},
     "output_type": "execute_result"
    }
   ],
   "source": [
    "type(3*5)"
   ]
  },
  {
   "cell_type": "code",
   "execution_count": 8,
   "id": "1397c91a",
   "metadata": {},
   "outputs": [
    {
     "data": {
      "text/plain": [
       "float"
      ]
     },
     "execution_count": 8,
     "metadata": {},
     "output_type": "execute_result"
    }
   ],
   "source": [
    "type(3.0*5.0)"
   ]
  },
  {
   "cell_type": "code",
   "execution_count": null,
   "id": "94be3860",
   "metadata": {},
   "outputs": [],
   "source": []
  }
 ],
 "metadata": {
  "kernelspec": {
   "display_name": "Python 3 (ipykernel)",
   "language": "python",
   "name": "python3"
  },
  "language_info": {
   "codemirror_mode": {
    "name": "ipython",
    "version": 3
   },
   "file_extension": ".py",
   "mimetype": "text/x-python",
   "name": "python",
   "nbconvert_exporter": "python",
   "pygments_lexer": "ipython3",
   "version": "3.9.13"
  }
 },
 "nbformat": 4,
 "nbformat_minor": 5
}
