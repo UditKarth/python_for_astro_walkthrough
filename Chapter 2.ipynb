{
 "cells": [
  {
   "cell_type": "markdown",
   "id": "86e07f0f",
   "metadata": {},
   "source": [
    "# Chapter 2: Basic Python\n",
    "\n",
    "### Udit Karthikeyan"
   ]
  },
  {
   "cell_type": "markdown",
   "id": "bd494e8a",
   "metadata": {},
   "source": [
    "\"**Definition 2.0.1** Python is a programming language (and yes, it’s named for the sketch troupe\n",
    "Monty Python). It is an interpreted high-level programming language for general-purpose\n",
    "programming, and one of the most common languages used in astronomy.\""
   ]
  },
  {
   "cell_type": "markdown",
   "id": "d852f51a",
   "metadata": {},
   "source": [
    "### 2.1: Hello World"
   ]
  },
  {
   "cell_type": "code",
   "execution_count": 4,
   "id": "1d497bb0",
   "metadata": {},
   "outputs": [
    {
     "name": "stdout",
     "output_type": "stream",
     "text": [
      "hello world!\n"
     ]
    }
   ],
   "source": [
    "print('hello world!')"
   ]
  },
  {
   "cell_type": "markdown",
   "id": "d6a45827",
   "metadata": {},
   "source": [
    "The difference between Python and Java as seen by the Hello World trivial example is the difference in syntax between the print statements; where Java utilizes \"System.out.print\", Python simply uses \"print\". A somewhat recent change has been the need to treat the print statement as a function, needing parentheses; before, \"print x\" would return an output."
   ]
  },
  {
   "cell_type": "markdown",
   "id": "4c80f148",
   "metadata": {},
   "source": [
    "\"**Definition 2.1.1**: A print statement is a line of code which tells the interpreter (the thing that\n",
    "turns your \"English\" commands into computer bits and executes them within the bowels of your\n",
    "computer) to output something to the screen.\""
   ]
  },
  {
   "cell_type": "code",
   "execution_count": 10,
   "id": "63d14fff",
   "metadata": {},
   "outputs": [
    {
     "data": {
      "text/plain": [
       "15"
      ]
     },
     "execution_count": 10,
     "metadata": {},
     "output_type": "execute_result"
    }
   ],
   "source": [
    "3 * 5"
   ]
  },
  {
   "cell_type": "code",
   "execution_count": 11,
   "id": "506ea22c",
   "metadata": {
    "scrolled": true
   },
   "outputs": [
    {
     "name": "stdout",
     "output_type": "stream",
     "text": [
      "15\n"
     ]
    }
   ],
   "source": [
    "print(3*5)"
   ]
  },
  {
   "cell_type": "markdown",
   "id": "08ffb747",
   "metadata": {},
   "source": [
    "\"**Definition 2.2.1** Data types are the fundamental building blocks of a code, a property that every\n",
    "object/element/variable in a written code will have, and which will determine the rules by which\n",
    "Python operates on them.\""
   ]
  },
  {
   "cell_type": "code",
   "execution_count": 7,
   "id": "576bfb44",
   "metadata": {
    "scrolled": true
   },
   "outputs": [
    {
     "data": {
      "text/plain": [
       "int"
      ]
     },
     "execution_count": 7,
     "metadata": {},
     "output_type": "execute_result"
    }
   ],
   "source": [
    "type(3*5)"
   ]
  },
  {
   "cell_type": "code",
   "execution_count": 8,
   "id": "bf37a765",
   "metadata": {},
   "outputs": [
    {
     "data": {
      "text/plain": [
       "float"
      ]
     },
     "execution_count": 8,
     "metadata": {},
     "output_type": "execute_result"
    }
   ],
   "source": [
    "type(3.0*5.0)"
   ]
  },
  {
   "cell_type": "code",
   "execution_count": 12,
   "id": "7fd5f729",
   "metadata": {},
   "outputs": [
    {
     "data": {
      "text/plain": [
       "str"
      ]
     },
     "execution_count": 12,
     "metadata": {},
     "output_type": "execute_result"
    }
   ],
   "source": [
    "type(\"Hello world!\")"
   ]
  },
  {
   "cell_type": "code",
   "execution_count": 13,
   "id": "6624e464",
   "metadata": {},
   "outputs": [
    {
     "data": {
      "text/plain": [
       "list"
      ]
     },
     "execution_count": 13,
     "metadata": {},
     "output_type": "execute_result"
    }
   ],
   "source": [
    "type([1,2,2,3])"
   ]
  },
  {
   "cell_type": "code",
   "execution_count": 20,
   "id": "2becaf0c",
   "metadata": {},
   "outputs": [
    {
     "data": {
      "text/plain": [
       "set"
      ]
     },
     "execution_count": 20,
     "metadata": {},
     "output_type": "execute_result"
    }
   ],
   "source": [
    "type({1,2,3})"
   ]
  },
  {
   "cell_type": "code",
   "execution_count": 15,
   "id": "55258ed8",
   "metadata": {},
   "outputs": [
    {
     "data": {
      "text/plain": [
       "tuple"
      ]
     },
     "execution_count": 15,
     "metadata": {},
     "output_type": "execute_result"
    }
   ],
   "source": [
    "type((1,2, \"hello\"))"
   ]
  },
  {
   "cell_type": "code",
   "execution_count": 16,
   "id": "e9c44b8f",
   "metadata": {},
   "outputs": [
    {
     "data": {
      "text/plain": [
       "bool"
      ]
     },
     "execution_count": 16,
     "metadata": {},
     "output_type": "execute_result"
    }
   ],
   "source": [
    "type(True)"
   ]
  },
  {
   "cell_type": "markdown",
   "id": "b1548675",
   "metadata": {},
   "source": [
    "Type casting can be done in python; you can convert ints to floats pretty easily, and can convert a String consisting purely of numbers into a int."
   ]
  },
  {
   "cell_type": "code",
   "execution_count": 19,
   "id": "5995e91b",
   "metadata": {},
   "outputs": [
    {
     "name": "stdout",
     "output_type": "stream",
     "text": [
      "<class 'int'>\n"
     ]
    }
   ],
   "source": [
    "x = 5.0\n",
    "y = int(x)\n",
    "print (type(y))"
   ]
  },
  {
   "cell_type": "markdown",
   "id": "ff23f6ac",
   "metadata": {},
   "source": [
    "Note with working with lists:"
   ]
  },
  {
   "cell_type": "code",
   "execution_count": 21,
   "id": "c388c2b2",
   "metadata": {},
   "outputs": [
    {
     "name": "stdout",
     "output_type": "stream",
     "text": [
      "[1, 2, 3, 3, 5, 1, 2, 3, 3, 5]\n"
     ]
    }
   ],
   "source": [
    "new_list = [1,2,3,3,5]\n",
    "list1 = new_list * 2\n",
    "print(list1)"
   ]
  },
  {
   "cell_type": "markdown",
   "id": "97c5482e",
   "metadata": {},
   "source": [
    "If you want to multiply the values inside of a list, you need to do the following: "
   ]
  },
  {
   "cell_type": "code",
   "execution_count": 27,
   "id": "91eb8989",
   "metadata": {},
   "outputs": [
    {
     "name": "stdout",
     "output_type": "stream",
     "text": [
      "[2, 4, 6, 8, 10]\n"
     ]
    }
   ],
   "source": [
    "list1 = [1,2,3,4,5]\n",
    "list2 = [i*2 for i in list1]\n",
    "print(list2)"
   ]
  },
  {
   "cell_type": "markdown",
   "id": "9a3fc6ad",
   "metadata": {},
   "source": [
    "If using NumPy, you can also use an array and then simply multiply the array by 2"
   ]
  },
  {
   "cell_type": "markdown",
   "id": "5b1c55e0",
   "metadata": {},
   "source": [
    "To retrieve the data in lists, you need to slice the array at certain indices to retrieve the data. Indices are the numbers assigned to each element of a list, starting from 0. When slicing, the first index is the starting point, and the second index (if included) is the ending point but is excluded from the \"slice\""
   ]
  },
  {
   "cell_type": "code",
   "execution_count": 30,
   "id": "599b2e66",
   "metadata": {},
   "outputs": [
    {
     "name": "stdout",
     "output_type": "stream",
     "text": [
      "2\n"
     ]
    }
   ],
   "source": [
    "new_list = [1, 2, 3, 5, 'Hello']\n",
    "list_element = new_list[1]\n",
    "print(list_element)"
   ]
  },
  {
   "cell_type": "markdown",
   "id": "ae409214",
   "metadata": {},
   "source": [
    "You can slice arrays and strings in the same way:"
   ]
  },
  {
   "cell_type": "code",
   "execution_count": 32,
   "id": "ebe92c54",
   "metadata": {},
   "outputs": [
    {
     "name": "stdout",
     "output_type": "stream",
     "text": [
      "The\n"
     ]
    }
   ],
   "source": [
    "String = \"The James Webb Telescope\"\n",
    "s1 = String[0:3]\n",
    "print(s1)"
   ]
  },
  {
   "cell_type": "markdown",
   "id": "a331d7e3",
   "metadata": {},
   "source": [
    "You can iterate through a list backwards by using negative indices:"
   ]
  },
  {
   "cell_type": "code",
   "execution_count": 41,
   "id": "fbd1a62f",
   "metadata": {},
   "outputs": [
    {
     "name": "stdout",
     "output_type": "stream",
     "text": [
      "Telescope\n"
     ]
    }
   ],
   "source": [
    "String = \"The James Webb Telescope\"\n",
    "s1 = String[-9:]\n",
    "print(s1)"
   ]
  },
  {
   "cell_type": "markdown",
   "id": "add2eb27",
   "metadata": {},
   "source": [
    "We can alter the elements of lists by appending, changing, or deleting certain elements:"
   ]
  },
  {
   "cell_type": "code",
   "execution_count": 42,
   "id": "a68da3c9",
   "metadata": {},
   "outputs": [
    {
     "name": "stdout",
     "output_type": "stream",
     "text": [
      "[1, 2, 3, 'new value', 5, 6, 7]\n"
     ]
    }
   ],
   "source": [
    "list1 = [1,2,3,4,5,6,7]\n",
    "list1[3] = 'new value'\n",
    "print(list1)"
   ]
  },
  {
   "cell_type": "code",
   "execution_count": 44,
   "id": "eb912653",
   "metadata": {},
   "outputs": [
    {
     "name": "stdout",
     "output_type": "stream",
     "text": [
      "[1, 2, 3, 4, 6, 7]\n"
     ]
    }
   ],
   "source": [
    "list1 = [1,2,3,4,5,6,7]\n",
    "del list1[4]\n",
    "print(list1)"
   ]
  },
  {
   "cell_type": "code",
   "execution_count": 45,
   "id": "f4ed9a18",
   "metadata": {},
   "outputs": [
    {
     "name": "stdout",
     "output_type": "stream",
     "text": [
      "[1, 2, 3, 4, 5, 6, 7]\n"
     ]
    }
   ],
   "source": [
    "list1 = [1,2,3,4,5,6]\n",
    "list1.append(7)\n",
    "print(list1)"
   ]
  },
  {
   "cell_type": "markdown",
   "id": "2e402c19",
   "metadata": {},
   "source": [
    "We can also flip an array. This mostly works with multidimensional arrays, but can be done with a single-dimension array"
   ]
  },
  {
   "cell_type": "code",
   "execution_count": 46,
   "id": "05c41195",
   "metadata": {},
   "outputs": [
    {
     "name": "stdout",
     "output_type": "stream",
     "text": [
      "[[7, 8, 9], [4, 5, 6], [1, 2, 3]]\n"
     ]
    }
   ],
   "source": [
    "list1 = [[1,2,3],[4,5,6],[7,8,9]]\n",
    "list2 = list1[::-1]\n",
    "print(list2)"
   ]
  },
  {
   "cell_type": "code",
   "execution_count": 51,
   "id": "75c9cf2b",
   "metadata": {},
   "outputs": [
    {
     "name": "stdout",
     "output_type": "stream",
     "text": [
      "[6, 5, 4, 3, 2, 1]\n"
     ]
    }
   ],
   "source": [
    "list1 = [1,2,3,4,5,6]\n",
    "list2 = list1[::-1]\n",
    "print(list2)"
   ]
  },
  {
   "cell_type": "markdown",
   "id": "f13e0ee9",
   "metadata": {},
   "source": [
    "\"**Definition 2.8.1** A dictionary is a Python container, like a list or array, but which uses “keys”\n",
    "instead of indices to specify elements within the container. That is, the order of elements (values)\n",
    "in a dictionary is irrelevant, and values are retrieved by indexing for the appropriate key (which\n",
    "can be almost anything)\""
   ]
  },
  {
   "cell_type": "code",
   "execution_count": 54,
   "id": "5e229199",
   "metadata": {},
   "outputs": [
    {
     "name": "stdout",
     "output_type": "stream",
     "text": [
      "1999 and Moon\n"
     ]
    }
   ],
   "source": [
    "dictionary = {\"key1\": \"1999\", 2: \"Moon\"}\n",
    "val1 = dictionary[\"key1\"]\n",
    "val2 = dictionary[2]\n",
    "print(val1 + \" and \" + val2)"
   ]
  },
  {
   "cell_type": "code",
   "execution_count": 55,
   "id": "51697b53",
   "metadata": {},
   "outputs": [
    {
     "name": "stdout",
     "output_type": "stream",
     "text": [
      "{'key1': '1999', 2: 'Moon', 'new_val': 'Awareness'}\n"
     ]
    }
   ],
   "source": [
    "dictionary = {\"key1\": \"1999\", 2: \"Moon\"}\n",
    "val1 = dictionary[\"key1\"]\n",
    "val2 = dictionary[2]\n",
    "dictionary[\"new_val\"] = \"Awareness\"\n",
    "print(dictionary)"
   ]
  }
 ],
 "metadata": {
  "kernelspec": {
   "display_name": "Python 3 (ipykernel)",
   "language": "python",
   "name": "python3"
  },
  "language_info": {
   "codemirror_mode": {
    "name": "ipython",
    "version": 3
   },
   "file_extension": ".py",
   "mimetype": "text/x-python",
   "name": "python",
   "nbconvert_exporter": "python",
   "pygments_lexer": "ipython3",
   "version": "3.9.13"
  }
 },
 "nbformat": 4,
 "nbformat_minor": 5
}
