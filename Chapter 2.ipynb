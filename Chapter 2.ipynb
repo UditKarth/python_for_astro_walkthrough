{
 "cells": [
  {
   "cell_type": "markdown",
   "id": "36abfb25",
   "metadata": {},
   "source": [
    "# Chapter 2: Basic Python\n",
    "\n",
    "### Udit Karthikeyan"
   ]
  },
  {
   "cell_type": "markdown",
   "id": "f03773b0",
   "metadata": {},
   "source": [
    "\"**Definition 2.0.1** Python is a programming language (and yes, it’s named for the sketch troupe\n",
    "Monty Python). It is an interpreted high-level programming language for general-purpose\n",
    "programming, and one of the most common languages used in astronomy.\""
   ]
  },
  {
   "cell_type": "markdown",
   "id": "567199f3",
   "metadata": {},
   "source": [
    "### 2.1: Hello World"
   ]
  },
  {
   "cell_type": "code",
   "execution_count": 4,
   "id": "e63e0b06",
   "metadata": {},
   "outputs": [
    {
     "name": "stdout",
     "output_type": "stream",
     "text": [
      "hello world!\n"
     ]
    }
   ],
   "source": [
    "print('hello world!') #Python Hello world is different from Java because___________"
   ]
  },
  {
   "cell_type": "markdown",
   "id": "94f76b00",
   "metadata": {},
   "source": []
  }
 ],
 "metadata": {
  "kernelspec": {
   "display_name": "Python 3 (ipykernel)",
   "language": "python",
   "name": "python3"
  },
  "language_info": {
   "codemirror_mode": {
    "name": "ipython",
    "version": 3
   },
   "file_extension": ".py",
   "mimetype": "text/x-python",
   "name": "python",
   "nbconvert_exporter": "python",
   "pygments_lexer": "ipython3",
   "version": "3.9.13"
  }
 },
 "nbformat": 4,
 "nbformat_minor": 5
}
